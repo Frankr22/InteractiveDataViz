{
 "cells": [
  {
   "cell_type": "markdown",
   "metadata": {},
   "source": [
    "## Import Dependencies"
   ]
  },
  {
   "cell_type": "code",
   "execution_count": 9,
   "metadata": {},
   "outputs": [],
   "source": [
    "# dependencies\n",
    "from flask import Flask, render_template, jsonify\n",
    "from bs4 import BeautifulSoup\n",
    "import requests\n",
    "import pandas as pd\n",
    "from sqlalchemy import create_engine\n",
    "from sqlalchemy import inspect"
   ]
  },
  {
   "cell_type": "markdown",
   "metadata": {},
   "source": [
    "## Scrape the cash rate data from the RBA website and store in a Pandas Dataframe"
   ]
  },
  {
   "cell_type": "code",
   "execution_count": 10,
   "metadata": {},
   "outputs": [
    {
     "name": "stdout",
     "output_type": "stream",
     "text": [
      "            date      change_pct   cash_rate_pct\n",
      "0     7 Dec 2022           +0.25            3.10\n",
      "1     2 Nov 2022           +0.25            2.85\n",
      "2     5 Oct 2022           +0.25            2.60\n",
      "3     7 Sep 2022           +0.50            2.35\n",
      "4     3 Aug 2022           +0.50            1.85\n",
      "..           ...             ...             ...\n",
      "357   2 May 1990            0.00  15.00 to 15.50\n",
      "358   4 Apr 1990  -1.00 to -1.50  15.00 to 15.50\n",
      "359   7 Mar 1990            0.00  16.50 to 17.00\n",
      "360  15 Feb 1990           -0.50  16.50 to 17.00\n",
      "361  23 Jan 1990  -0.50 to -1.00  17.00 to 17.50\n",
      "\n",
      "[362 rows x 3 columns]\n"
     ]
    }
   ],
   "source": [
    "# Make a request to the RBA website\n",
    "url = 'https://www.rba.gov.au/statistics/cash-rate/'\n",
    "response = requests.get(url)\n",
    "\n",
    "# Parse the HTML content\n",
    "soup = BeautifulSoup(response.content, 'html.parser')\n",
    "\n",
    "# Find the table containing the interest rate data\n",
    "table = soup.find('table', {'id': 'datatable','class': 'table-linear table-numeric'})\n",
    "\n",
    "# Initialize an empty list to store the data\n",
    "data = []\n",
    "\n",
    "# Extract the data from the table\n",
    "for row in table.find_all('tr'):\n",
    "    cells = row.find_all(['th','td'])\n",
    "    if len(cells) == 4:\n",
    "        date = cells[0].text.strip()\n",
    "        change = cells[1].text.strip()\n",
    "        rate = cells[2].text.strip()\n",
    "        data.append([date, change, rate])\n",
    "    else:\n",
    "        continue\n",
    "        \n",
    "# Create a pandas DataFrame\n",
    "df = pd.DataFrame(data[1:], columns=data[0])\n",
    "df.columns = [\"date\", \"change_pct\", \"cash_rate_pct\"]\n",
    "\n",
    "# Print the DataFrame\n",
    "print(df)"
   ]
  },
  {
   "cell_type": "markdown",
   "metadata": {},
   "source": [
    "## 2.\tUse the SQLAlchemy library to connect to a SQL database and create a table to store the scraped data."
   ]
  },
  {
   "cell_type": "code",
   "execution_count": 13,
   "metadata": {},
   "outputs": [
    {
     "data": {
      "text/html": [
       "<div>\n",
       "<style scoped>\n",
       "    .dataframe tbody tr th:only-of-type {\n",
       "        vertical-align: middle;\n",
       "    }\n",
       "\n",
       "    .dataframe tbody tr th {\n",
       "        vertical-align: top;\n",
       "    }\n",
       "\n",
       "    .dataframe thead th {\n",
       "        text-align: right;\n",
       "    }\n",
       "</style>\n",
       "<table border=\"1\" class=\"dataframe\">\n",
       "  <thead>\n",
       "    <tr style=\"text-align: right;\">\n",
       "      <th></th>\n",
       "      <th>id</th>\n",
       "      <th>date</th>\n",
       "      <th>change_pct</th>\n",
       "      <th>cash_rate_pct</th>\n",
       "    </tr>\n",
       "  </thead>\n",
       "  <tbody>\n",
       "    <tr>\n",
       "      <th>0</th>\n",
       "      <td>1</td>\n",
       "      <td>2022-12-07</td>\n",
       "      <td>+0.25</td>\n",
       "      <td>3.10</td>\n",
       "    </tr>\n",
       "    <tr>\n",
       "      <th>1</th>\n",
       "      <td>2</td>\n",
       "      <td>2022-11-02</td>\n",
       "      <td>+0.25</td>\n",
       "      <td>2.85</td>\n",
       "    </tr>\n",
       "    <tr>\n",
       "      <th>2</th>\n",
       "      <td>3</td>\n",
       "      <td>2022-10-05</td>\n",
       "      <td>+0.25</td>\n",
       "      <td>2.60</td>\n",
       "    </tr>\n",
       "    <tr>\n",
       "      <th>3</th>\n",
       "      <td>4</td>\n",
       "      <td>2022-09-07</td>\n",
       "      <td>+0.50</td>\n",
       "      <td>2.35</td>\n",
       "    </tr>\n",
       "    <tr>\n",
       "      <th>4</th>\n",
       "      <td>5</td>\n",
       "      <td>2022-08-03</td>\n",
       "      <td>+0.50</td>\n",
       "      <td>1.85</td>\n",
       "    </tr>\n",
       "  </tbody>\n",
       "</table>\n",
       "</div>"
      ],
      "text/plain": [
       "   id        date change_pct cash_rate_pct\n",
       "0   1  2022-12-07      +0.25          3.10\n",
       "1   2  2022-11-02      +0.25          2.85\n",
       "2   3  2022-10-05      +0.25          2.60\n",
       "3   4  2022-09-07      +0.50          2.35\n",
       "4   5  2022-08-03      +0.50          1.85"
      ]
     },
     "execution_count": 13,
     "metadata": {},
     "output_type": "execute_result"
    }
   ],
   "source": [
    "app = Flask(__name__)\n",
    "\n",
    "# connect to database using SQLAlchemy\n",
    "protocol = 'postgresql'\n",
    "username = 'postgres'\n",
    "password = 'postgres'\n",
    "host = 'localhost'\n",
    "port = 5432\n",
    "database_name = 'rates_db'\n",
    "rds_connection_string = f'{protocol}://{username}:{password}@{host}:{port}/{database_name}'\n",
    "engine = create_engine(rds_connection_string)\n",
    "insp = inspect(engine)\n",
    "\n",
    "# Confirm tables\n",
    "insp.get_table_names()\n",
    "\n",
    "# Load DataFrame into Postgres Database\n",
    "df.to_sql(name='interest_rates', con=engine, if_exists='append', index=False)\n",
    "\n",
    "# Test Database with SQL Query\n",
    "pd.read_sql_query('SELECT * from interest_rates LIMIT 100', con=engine).head()"
   ]
  },
  {
   "cell_type": "code",
   "execution_count": 14,
   "metadata": {},
   "outputs": [
    {
     "name": "stdout",
     "output_type": "stream",
     "text": [
      " * Serving Flask app '__main__'\n",
      " * Debug mode: on\n"
     ]
    },
    {
     "name": "stderr",
     "output_type": "stream",
     "text": [
      "WARNING: This is a development server. Do not use it in a production deployment. Use a production WSGI server instead.\n",
      " * Running on http://127.0.0.1:5000\n",
      "Press CTRL+C to quit\n",
      " * Restarting with stat\n"
     ]
    },
    {
     "ename": "SystemExit",
     "evalue": "1",
     "output_type": "error",
     "traceback": [
      "An exception has occurred, use %tb to see the full traceback.\n",
      "\u001b[1;31mSystemExit\u001b[0m\u001b[1;31m:\u001b[0m 1\n"
     ]
    },
    {
     "name": "stderr",
     "output_type": "stream",
     "text": [
      "C:\\Users\\rober\\anaconda\\Anaconda3\\envs\\PythonData\\lib\\site-packages\\IPython\\core\\interactiveshell.py:3465: UserWarning: To exit: use 'exit', 'quit', or Ctrl-D.\n",
      "  warn(\"To exit: use 'exit', 'quit', or Ctrl-D.\", stacklevel=1)\n"
     ]
    }
   ],
   "source": [
    "# define a route to retrieve data from the database and serve it as a JSON response\n",
    "@app.route('/api/data')\n",
    "def data():\n",
    "    # Query the database\n",
    "    query = 'SELECT date, change_pct, cash_rate_pct FROM interest_rates'\n",
    "    df = pd.read_sql_query(query, con=engine)\n",
    "    # Convert the data to a JSON object\n",
    "    data = df.to_json(orient='records')\n",
    "    return jsonify(data)\n",
    "\n",
    "if __name__ == '__main__':\n",
    "    app.run(debug=True)"
   ]
  }
 ],
 "metadata": {
  "kernelspec": {
   "display_name": "PythonData",
   "language": "python",
   "name": "pythondata"
  },
  "language_info": {
   "codemirror_mode": {
    "name": "ipython",
    "version": 3
   },
   "file_extension": ".py",
   "mimetype": "text/x-python",
   "name": "python",
   "nbconvert_exporter": "python",
   "pygments_lexer": "ipython3",
   "version": "3.7.7"
  }
 },
 "nbformat": 4,
 "nbformat_minor": 2
}
