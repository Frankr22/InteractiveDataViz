{
 "cells": [
  {
   "cell_type": "code",
   "execution_count": 3,
   "id": "fbed83eb",
   "metadata": {},
   "outputs": [],
   "source": [
    "# dependencies\n",
    "from flask import Flask, render_template, jsonify\n",
    "from bs4 import BeautifulSoup\n",
    "import requests\n",
    "import pandas as pd\n",
    "from sqlalchemy import create_engine\n",
    "from sqlalchemy import inspect"
   ]
  },
  {
   "cell_type": "code",
   "execution_count": 5,
   "id": "f1225cdf",
   "metadata": {},
   "outputs": [
    {
     "name": "stdout",
     "output_type": "stream",
     "text": [
      "        state          mean_dwelling_price\n",
      "0      Sep-17                    [6,779.3]\n",
      "1      Dec-17                    [6,946.2]\n",
      "2      Mar-18                    [6,957.2]\n",
      "3      Jun-18                    [6,921.0]\n",
      "4      Sep-18                    [6,860.1]\n",
      "5      Dec-18                    [6,789.0]\n",
      "6      Mar-19                    [6,656.0]\n",
      "7      Jun-19                    [6,720.5]\n",
      "8      Sep-19                    [6,951.4]\n",
      "9      Dec-19                    [7,170.8]\n",
      "10     Mar-20                    [7,278.1]\n",
      "11     Jun-20                    [7,251.1]\n",
      "12     Sep-20                    [7,487.5]\n",
      "13     Dec-20                    [7,886.5]\n",
      "14     Mar-21                    [8,360.9]\n",
      "15     Jun-21                    [8,807.8]\n",
      "16     Sep-21                    [9,433.1]\n",
      "17     Dec-21                   [10,003.7]\n",
      "18     Mar-22                   [10,183.6]\n",
      "19     Jun-22                   [10,033.3]\n",
      "20     Sep-22                    [9,674.4]\n",
      "21                                      []\n",
      "22        NSW  [1,227.2, 1,187.9, 1,125.6]\n",
      "23        VIC          [973, 942.4, 912.1]\n",
      "24        QLD        [784.3, 790.9, 753.1]\n",
      "25         SA          [645.9, 653, 650.2]\n",
      "26         WA          [633.2, 648.5, 644]\n",
      "27        TAS          [693.2, 680.7, 653]\n",
      "28         NT          [531, 501.1, 500.1]\n",
      "29        ACT      [1,006.5, 999.5, 956.4]\n",
      "30  Australia          [944, 926.6, 889.8]\n"
     ]
    }
   ],
   "source": [
    "# Make a request to the ABS website\n",
    "url = 'https://www.abs.gov.au/statistics/economy/price-indexes-and-inflation/total-value-dwellings/latest-release#mean-dwelling-price'\n",
    "response = requests.get(url)\n",
    "\n",
    "# Parse the HTML content\n",
    "soup = BeautifulSoup(response.content, 'html.parser')\n",
    "\n",
    "# Find the table containing the mean dwelling price data\n",
    "table = soup.find('table', {'class': 'chart-data-table has-chart responsive-enabled double-headers'})\n",
    "\n",
    "# Initialize an empty list to store the data\n",
    "data = []\n",
    "\n",
    "data = []\n",
    "for row in soup.find_all('tr'):\n",
    "    state = row.find('th', {'class': 'row-header'})\n",
    "    if state:\n",
    "        state = state.text.strip()\n",
    "    else:\n",
    "        state = ''\n",
    "    prices = [price.text.strip() for price in row.find_all('td', {'class': 'data-value'})]\n",
    "    data.append([state, prices])\n",
    "\n",
    "# Create a pandas DataFrame\n",
    "df = pd.DataFrame(data[1:], columns=['state', 'prices'])\n",
    "df.columns = [\"state\", \"mean_dwelling_price\"]\n",
    "\n",
    "# Print the DataFrame\n",
    "print(df)"
   ]
  },
  {
   "cell_type": "code",
   "execution_count": null,
   "id": "d8074fbe",
   "metadata": {},
   "outputs": [],
   "source": []
  }
 ],
 "metadata": {
  "kernelspec": {
   "display_name": "Python 3 (ipykernel)",
   "language": "python",
   "name": "python3"
  },
  "language_info": {
   "codemirror_mode": {
    "name": "ipython",
    "version": 3
   },
   "file_extension": ".py",
   "mimetype": "text/x-python",
   "name": "python",
   "nbconvert_exporter": "python",
   "pygments_lexer": "ipython3",
   "version": "3.7.7"
  }
 },
 "nbformat": 4,
 "nbformat_minor": 5
}
